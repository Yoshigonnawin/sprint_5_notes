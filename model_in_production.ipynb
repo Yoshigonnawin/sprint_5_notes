{
 "cells": [
  {
   "cell_type": "code",
   "execution_count": 2,
   "id": "91c68719",
   "metadata": {},
   "outputs": [],
   "source": [
    "# загружаем необходимые библиотеки\n",
    "import warnings\n",
    "\n",
    "import numpy as np\n",
    "import pandas as pd\n",
    "from sklearn.model_selection import train_test_split\n",
    "\n",
    "warnings.filterwarnings(\"ignore\")\n",
    "\n",
    "# загружаем датафрейм\n",
    "df = pd.read_csv(\"discountuplift.csv\", sep=\"\\t\")\n",
    "\n",
    "df[\"old_target\"] = (df[\"target_class\"] % 2).apply(int)\n",
    "\n",
    "feature_cols = [\n",
    "    \"recency\",\n",
    "    \"history\",\n",
    "    \"used_discount\",\n",
    "    \"used_bogo\",\n",
    "    \"is_referral\",\n",
    "    \"zip_code_Rural\",\n",
    "    \"zip_code_Surburban\",\n",
    "    \"zip_code_Urban\",\n",
    "    \"channel_Multichannel\",\n",
    "    \"channel_Phone\",\n",
    "    \"channel_Web\",\n",
    "]\n",
    "target_col = \"old_target\"\n",
    "treatment_col = \"treatment\"\n",
    "\n",
    "# разобъём нашу выборку на тестовую и валидационную\n",
    "df_train, df_test = train_test_split(\n",
    "    df, stratify=df[[treatment_col, target_col]], random_state=1, test_size=0.25\n",
    ")"
   ]
  },
  {
   "cell_type": "code",
   "execution_count": 3,
   "id": "c0551946",
   "metadata": {},
   "outputs": [],
   "source": [
    "from causalml.inference.tree import UpliftTreeClassifier\n",
    "\n",
    "# создадим uplift-дерево\n",
    "uplift_model = UpliftTreeClassifier(\n",
    "    max_depth=5,\n",
    "    min_samples_leaf=200,\n",
    "    min_samples_treatment=50,\n",
    "    n_reg=100,\n",
    "    evaluationFunction=\"ED\",\n",
    "    control_name=\"0\",\n",
    ")\n",
    "\n",
    "uplift_model.fit(\n",
    "    df_train[feature_cols].values,\n",
    "    treatment=df_train[treatment_col].apply(str).values,\n",
    "    y=df_train[target_col].values,\n",
    ")"
   ]
  },
  {
   "cell_type": "code",
   "execution_count": 4,
   "id": "82644b2e",
   "metadata": {},
   "outputs": [],
   "source": [
    "# загружаем необходимые библиотеки\n",
    "import pickle\n",
    "\n",
    "with open(\"model.pkl\", \"wb\") as f:\n",
    "    pickle.dump(uplift_model, f)"
   ]
  }
 ],
 "metadata": {
  "kernelspec": {
   "display_name": ".venv",
   "language": "python",
   "name": "python3"
  },
  "language_info": {
   "codemirror_mode": {
    "name": "ipython",
    "version": 3
   },
   "file_extension": ".py",
   "mimetype": "text/x-python",
   "name": "python",
   "nbconvert_exporter": "python",
   "pygments_lexer": "ipython3",
   "version": "3.10.18"
  }
 },
 "nbformat": 4,
 "nbformat_minor": 5
}
